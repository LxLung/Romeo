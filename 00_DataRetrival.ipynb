{
 "cells": [
  {
   "cell_type": "markdown",
   "id": "30d9a4d7-4a0e-4481-af18-15098d877a14",
   "metadata": {},
   "source": [
    "## Data"
   ]
  },
  {
   "cell_type": "code",
   "execution_count": 1,
   "id": "8a46124e-00ef-40b0-9d23-bda0e69ce7d0",
   "metadata": {},
   "outputs": [],
   "source": [
    "using BenchmarkTools\n",
    "using DataFrames\n",
    "using DelimitedFiles\n",
    "using CSV\n",
    "using XLSX\n",
    "using Downloads"
   ]
  },
  {
   "cell_type": "code",
   "execution_count": 5,
   "id": "5ef68a0d-78e2-48ae-a511-3d3e1dcc5a18",
   "metadata": {},
   "outputs": [
    {
     "name": "stdout",
     "output_type": "stream",
     "text": [
      "search: \u001b[0m\u001b[1mD\u001b[22m\u001b[0m\u001b[1mo\u001b[22m\u001b[0m\u001b[1mw\u001b[22m\u001b[0m\u001b[1mn\u001b[22m\u001b[0m\u001b[1ml\u001b[22m\u001b[0m\u001b[1mo\u001b[22m\u001b[0m\u001b[1ma\u001b[22m\u001b[0m\u001b[1md\u001b[22m\u001b[0m\u001b[1ms\u001b[22m \u001b[0m\u001b[1md\u001b[22m\u001b[0m\u001b[1mo\u001b[22m\u001b[0m\u001b[1mw\u001b[22m\u001b[0m\u001b[1mn\u001b[22m\u001b[0m\u001b[1ml\u001b[22m\u001b[0m\u001b[1mo\u001b[22m\u001b[0m\u001b[1ma\u001b[22m\u001b[0m\u001b[1md\u001b[22m \u001b[0m\u001b[1mD\u001b[22m\u001b[0m\u001b[1mo\u001b[22m\u001b[0m\u001b[1mw\u001b[22m\u001b[0m\u001b[1mn\u001b[22m\u001b[0m\u001b[1ml\u001b[22m\u001b[0m\u001b[1mo\u001b[22m\u001b[0m\u001b[1ma\u001b[22m\u001b[0m\u001b[1md\u001b[22mer\n",
      "\n"
     ]
    },
    {
     "data": {
      "text/latex": [
       "The \\texttt{Downloads} module exports a function \\href{@ref}{\\texttt{download}}, which provides cross-platform, multi-protocol, in-process download functionality implemented with \\href{https://curl.haxx.se/libcurl/}{libcurl}.   It is used for the \\texttt{Base.download} function in Julia 1.6 or later.\n",
       "\n",
       "More generally, the module exports functions and types that provide lower-level control and diagnostic information for file downloading:\n",
       "\n",
       "\\begin{itemize}\n",
       "\\item \\href{@ref}{\\texttt{download}} — download a file from a URL, erroring if it can't be downloaded\n",
       "\n",
       "\n",
       "\\item \\href{@ref}{\\texttt{request}} — request a URL, returning a \\texttt{Response} object indicating success\n",
       "\n",
       "\n",
       "\\item \\href{@ref}{\\texttt{Response}} — a type capturing the status and other metadata about a request\n",
       "\n",
       "\n",
       "\\item \\href{@ref}{\\texttt{RequestError}} — an error type thrown by \\texttt{download} and \\texttt{request} on error\n",
       "\n",
       "\n",
       "\\item \\href{@ref}{\\texttt{Downloader}} — an object encapsulating shared resources for downloading\n",
       "\n",
       "\\end{itemize}\n"
      ],
      "text/markdown": [
       "The `Downloads` module exports a function [`download`](@ref), which provides cross-platform, multi-protocol, in-process download functionality implemented with [libcurl](https://curl.haxx.se/libcurl/).   It is used for the `Base.download` function in Julia 1.6 or later.\n",
       "\n",
       "More generally, the module exports functions and types that provide lower-level control and diagnostic information for file downloading:\n",
       "\n",
       "  * [`download`](@ref) — download a file from a URL, erroring if it can't be downloaded\n",
       "  * [`request`](@ref) — request a URL, returning a `Response` object indicating success\n",
       "  * [`Response`](@ref) — a type capturing the status and other metadata about a request\n",
       "  * [`RequestError`](@ref) — an error type thrown by `download` and `request` on error\n",
       "  * [`Downloader`](@ref) — an object encapsulating shared resources for downloading\n"
      ],
      "text/plain": [
       "  The \u001b[36mDownloads\u001b[39m module exports a function \u001b[36mdownload\u001b[39m, which provides\n",
       "  cross-platform, multi-protocol, in-process download functionality\n",
       "  implemented with libcurl (https://curl.haxx.se/libcurl/). It is used for the\n",
       "  \u001b[36mBase.download\u001b[39m function in Julia 1.6 or later.\n",
       "\n",
       "  More generally, the module exports functions and types that provide\n",
       "  lower-level control and diagnostic information for file downloading:\n",
       "\n",
       "    •  \u001b[36mdownload\u001b[39m — download a file from a URL, erroring if it can't be\n",
       "       downloaded\n",
       "\n",
       "    •  \u001b[36mrequest\u001b[39m — request a URL, returning a \u001b[36mResponse\u001b[39m object indicating\n",
       "       success\n",
       "\n",
       "    •  \u001b[36mResponse\u001b[39m — a type capturing the status and other metadata about a\n",
       "       request\n",
       "\n",
       "    •  \u001b[36mRequestError\u001b[39m — an error type thrown by \u001b[36mdownload\u001b[39m and \u001b[36mrequest\u001b[39m on\n",
       "       error\n",
       "\n",
       "    •  \u001b[36mDownloader\u001b[39m — an object encapsulating shared resources for\n",
       "       downloading"
      ]
     },
     "execution_count": 5,
     "metadata": {},
     "output_type": "execute_result"
    }
   ],
   "source": [
    "?Downloads"
   ]
  }
 ],
 "metadata": {
  "kernelspec": {
   "display_name": "Julia 1.9.0",
   "language": "julia",
   "name": "julia-1.9"
  },
  "language_info": {
   "file_extension": ".jl",
   "mimetype": "application/julia",
   "name": "julia",
   "version": "1.9.0"
  }
 },
 "nbformat": 4,
 "nbformat_minor": 5
}
